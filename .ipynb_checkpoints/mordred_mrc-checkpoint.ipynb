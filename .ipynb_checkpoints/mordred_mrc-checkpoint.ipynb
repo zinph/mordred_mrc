{
 "cells": [
  {
   "cell_type": "markdown",
   "metadata": {},
   "source": [
    "### Mordred + RS 12 - 100 + Smallest RS + Largest RS + # Sugars + # Core Esters"
   ]
  },
  {
   "cell_type": "code",
   "execution_count": 1,
   "metadata": {},
   "outputs": [
    {
     "name": "stderr",
     "output_type": "stream",
     "text": [
      "RDKit WARNING: [23:33:43] Enabling RDKit 2019.09.1 jupyter extensions\n"
     ]
    }
   ],
   "source": [
    "import itertools\n",
    "import pandas as pd\n",
    "from mordred import Calculator, descriptors\n",
    "from mordred.RingCount import RingCount\n",
    "from rdkit import Chem\n"
   ]
  },
  {
   "cell_type": "code",
   "execution_count": 2,
   "metadata": {},
   "outputs": [],
   "source": [
    "def convert_time(second):\n",
    "    day = second/86400\n",
    "    hour = (day - int(day))*24\n",
    "    minute = (hour - int(hour))*60\n",
    "    second = round((minute - int(minute))*60,4)\n",
    "    return(str(int(day)) + ' DAYS: '+ str(int(hour)) + ' HOURS: '+ str(int(minute)) + ' MINUTES: ' + str(second) + ' SECONDS')\n"
   ]
  },
  {
   "cell_type": "markdown",
   "metadata": {},
   "source": [
    "### Compute Mordred + Macrocycle Descriptors"
   ]
  },
  {
   "cell_type": "code",
   "execution_count": 3,
   "metadata": {},
   "outputs": [],
   "source": [
    "class Macrocycle_Descriptors:\n",
    "    \n",
    "    def __init__(self, mols):\n",
    "        self.mols = mols\n",
    "        \n",
    "    def compute_ringsize(self, mol):\n",
    "        '''\n",
    "        check for macrolides of RS 3 to 100, return a  list of ring counts.\n",
    "        [RS3,RS4,.....,RS100]\n",
    "        [0,0,0,...,1,...,0]\n",
    "        '''\n",
    "        RS_3_100 = [i+3 for i in range(97)]\n",
    "        RS_count = []\n",
    "        for j in RS_3_100:\n",
    "            RS = RingCount(order=j)(mol)\n",
    "            RS_count.append(RS)\n",
    "        return RS_count\n",
    "    \n",
    "    def macrolide_ring_info(self):\n",
    "        headers = ['n'+str(i+13)+'Ring' for i in range(87)]+['SmallestRS','LargestRS']  \n",
    "        # up to nR12 is already with mordred, start with nR13 to nR100\n",
    "        ring_sizes = []\n",
    "        for i in range(len(self.mols)):\n",
    "            RS = self.compute_ringsize(self.mols[i])  # nR3 to nR100\n",
    "            RS_12_100 = RS[9:]    # start with nR12 up to nR100\n",
    "            ring_indices = [i for i,x in enumerate(RS_12_100) if x!=0]  # get index if item isn't equal to 0\n",
    "            if ring_indices:\n",
    "                # find 1, locate the last index\n",
    "                # largest_RS is based on RS 3 to 100. \n",
    "                # Add 3 (starting ring count) to get up to the actual ring size \n",
    "                smallest_RS = ring_indices[0]+12 \n",
    "                largest_RS = ring_indices[-1]+12\n",
    "                RS_12_100.append(smallest_RS)  # Smallest RS\n",
    "                RS_12_100.append(largest_RS)  # Largest RS\n",
    "            else:\n",
    "                RS_12_100.extend(['',''])\n",
    "            ring_sizes.append(RS_12_100[1:]) # up to nR12 is already with mordred, start with nR13 to nR100\n",
    "        df = pd.DataFrame(ring_sizes, columns=headers)\n",
    "        return df\n",
    "    \n",
    "    def sugar_count(self):\n",
    "        sugar_patterns = [\n",
    "        '[OX2;$([r5]1@C@C@C(O)@C1),$([r6]1@C@C@C(O)@C(O)@C1)]',\n",
    "        '[OX2;$([r5]1@C(!@[OX2,NX3,SX2,FX1,ClX1,BrX1,IX1])@C@C@C1),$([r6]1@C(!@[OX2,NX3,SX2,FX1,ClX1,BrX1,IX1])@C@C@C@C1)]',\n",
    "        '[OX2;$([r5]1@C(!@[OX2,NX3,SX2,FX1,ClX1,BrX1,IX1])@C@C(O)@C1),$([r6]1@C(!@[OX2,NX3,SX2,FX1,ClX1,BrX1,IX1])@C@C(O)@C(O)@C1)]',\n",
    "        '[OX2;$([r5]1@C(!@[OX2H1])@C@C@C1),$([r6]1@C(!@[OX2H1])@C@C@C@C1)]',\n",
    "        '[OX2;$([r5]1@[C@@](!@[OX2,NX3,SX2,FX1,ClX1,BrX1,IX1])@C@C@C1),$([r6]1@[C@@](!@[OX2,NX3,SX2,FX1,ClX1,BrX1,IX1])@C@C@C@C1)]',\n",
    "        '[OX2;$([r5]1@[C@](!@[OX2,NX3,SX2,FX1,ClX1,BrX1,IX1])@C@C@C1),$([r6]1@[C@](!@[OX2,NX3,SX2,FX1,ClX1,BrX1,IX1])@C@C@C@C1)]',\n",
    "        ]\n",
    "        sugar_mols = [Chem.MolFromSmarts(i) for i in sugar_patterns]\n",
    "        sugar_counts = []\n",
    "        for i in self.mols:\n",
    "            matches_total = []\n",
    "            for s_mol in sugar_mols:\n",
    "                raw_matches = i.GetSubstructMatches(s_mol)\n",
    "                matches = list(sum(raw_matches, ()))\n",
    "                if matches not in matches_total and len(matches) !=0:\n",
    "                    matches_total.append(matches)\n",
    "            sugar_indices = set((list(itertools.chain(*matches_total))))\n",
    "            count = len(sugar_indices)\n",
    "            sugar_counts.append(count)\n",
    "        df = pd.DataFrame(sugar_counts, columns=['nSugars'])\n",
    "        return df\n",
    "\n",
    "    def core_ester_count(self):\n",
    "        '''\n",
    "        Returns pandas frame containing the count of esters in core rings of >=12 membered macrocycles.\n",
    "        '''\n",
    "        ester_smarts = '[CX3](=[OX1])O@[r;!r3;!r4;!r5;!r6;!r7;!r8;!r9;!r10;!r11]'\n",
    "        core_ester = []\n",
    "        ester_mol = Chem.MolFromSmarts(ester_smarts)\n",
    "        for i in self.mols:\n",
    "            ester_count = len(i.GetSubstructMatches(ester_mol))\n",
    "            core_ester.append(ester_count)\n",
    "        df = pd.DataFrame(core_ester, columns=['core_ester'])\n",
    "        return df\n",
    "\n",
    "    def mordred_compute(self):\n",
    "        calc = Calculator(descriptors, ignore_3D=True)\n",
    "        rings = RingCount() \n",
    "        df = calc.pandas(self.mols)\n",
    "        return df\n",
    "\n",
    "    def compute_mrc(self):\n",
    "        mordred_df = self.mordred_compute()\n",
    "        ring_df = self.macrolide_ring_info()\n",
    "        sugar_df = self.sugar_count()\n",
    "        ester_df = self.core_ester_count()\n",
    "        merged = pd.concat([mordred_df, ring_df,sugar_df, ester_df], axis=1)\n",
    "        return merged\n"
   ]
  },
  {
   "cell_type": "code",
   "execution_count": 4,
   "metadata": {},
   "outputs": [
    {
     "name": "stderr",
     "output_type": "stream",
     "text": [
      "100%|████████████████████████████████████████████████████████████████████████████████████| 3/3 [00:03<00:00,  1.00s/it]\n"
     ]
    }
   ],
   "source": [
    "def main():\n",
    "    sample_smiles = ['CC[C@H]1OC(=O)[C@H](C)[C@@H](O[C@H]2C[C@@](C)(OC)[C@@H](O)[C@H](C)O2)[C@H](C)[C@@H](O[C@@H]2O[C@H](C)C[C@@H]([C@H]2O)N(C)C)[C@](C)(O)C[C@@H](C)C(=O)[C@H](C)[C@@H](O)[C@]1(C)O',\n",
    "            'CC[C@@H](C)[C@H]1O[C@]2(CC[C@@H]1C)C[C@@H]1C[C@@H](C\\C=C(C)\\[C@@H](O[C@H]3C[C@H](OC)[C@@H](O[C@H]4C[C@H](OC)[C@@H](O)[C@H](C)O4)[C@H](C)O3)[C@@H](C)\\C=C\\C=C3/CO[C@@H]4[C@H](O)C(C)=C[C@@H](C(=O)O1)[C@]34O)O2',\n",
    "            'CC[C@H]1OC(=O)[C@@](C)(F)C(=O)[C@H](C)[C@@H](O[C@@H]2O[C@H](C)C[C@@H]([C@H]2O)N(C)C)[C@@](C)(C[C@@H](C)C(=O)[C@H](C)[C@H]2N(CCCCN3C=C(N=N3)C3=CC=CC(N)=C3)C(=O)O[C@]12C)OC']\n",
    "    mols = [Chem.MolFromSmiles(smi) for smi in sample_smiles]\n",
    "    descriptor = Macrocycle_Descriptors(mols)\n",
    "    desc_frame = descriptor.compute_mrc()\n",
    "    desc_frame.insert(loc=0, column='smiles', value=sample_smiles)\n",
    "    desc_frame.to_csv('mordred_mrc.csv', index=False)\n",
    "\n",
    "main()"
   ]
  },
  {
   "cell_type": "code",
   "execution_count": null,
   "metadata": {},
   "outputs": [],
   "source": []
  }
 ],
 "metadata": {
  "kernelspec": {
   "display_name": "Python 3",
   "language": "python",
   "name": "python3"
  },
  "language_info": {
   "codemirror_mode": {
    "name": "ipython",
    "version": 3
   },
   "file_extension": ".py",
   "mimetype": "text/x-python",
   "name": "python",
   "nbconvert_exporter": "python",
   "pygments_lexer": "ipython3",
   "version": "3.7.3"
  }
 },
 "nbformat": 4,
 "nbformat_minor": 2
}
